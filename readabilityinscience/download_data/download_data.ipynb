{
 "cells": [
  {
   "cell_type": "markdown",
   "metadata": {
    "slideshow": {
     "slide_type": "slide"
    }
   },
   "source": [
    "This script downloads the dataset use in the analysis.\n",
    "\n",
    "__It requires 2 inputs to be specified__\n",
    "\n",
    "repo_directory and email (see first cell block)."
   ]
  },
  {
   "cell_type": "code",
   "execution_count": null,
   "metadata": {
    "slideshow": {
     "slide_type": "slide"
    }
   },
   "outputs": [],
   "source": [
    "# Where is the main directory of the repo\n",
    "repo_directory = './'\n",
    "# Pubmed requires you to identify with an email addreesss\n",
    "email = ''"
   ]
  },
  {
   "cell_type": "code",
   "execution_count": null,
   "metadata": {
    "slideshow": {
     "slide_type": "slide"
    }
   },
   "outputs": [],
   "source": [
    "import os\n",
    "os.chdir(repo_directory)\n",
    "\n",
    "import numpy as np\n",
    "import pandas as pd\n",
    "import functions.dataminingfunctions as dmf\n",
    "import functions.readabilityFunctions as rf"
   ]
  },
  {
   "cell_type": "code",
   "execution_count": null,
   "metadata": {
    "slideshow": {
     "slide_type": "slide"
    }
   },
   "outputs": [],
   "source": [
    "#Load journal info\n",
    "journalInfo=pd.read_csv('./JournalSelection/JournalSelection.csv')"
   ]
  },
  {
   "cell_type": "markdown",
   "metadata": {
    "slideshow": {
     "slide_type": "slide"
    }
   },
   "source": [
    "Specify the search data that you want to get from pubmeddata"
   ]
  },
  {
   "cell_type": "code",
   "execution_count": null,
   "metadata": {
    "slideshow": {
     "slide_type": "slide"
    }
   },
   "outputs": [],
   "source": [
    "#What to get. \"all\" saves a txt. Otherwise the xml tags wanted (see https://www.nlm.nih.gov/bsd/licensee/elements_alphabetical.html). Seperated by a comma\n",
    "#\"Trees\" are possible to specify column you want. (e.g. <year> occurs) in several\n",
    "#places so pubate_year takes the <year> tag in <pubdate>\n",
    "dataOfInterest = 'abstracttext,pubdate_year,pmid,articletitle,journal_title,keyword,doi'\n",
    "#If dataframe, what is the index column (usally article or author)\n",
    "dfId = 'article'"
   ]
  },
  {
   "cell_type": "markdown",
   "metadata": {
    "slideshow": {
     "slide_type": "slide"
    }
   },
   "source": [
    "Download the data"
   ]
  },
  {
   "cell_type": "code",
   "execution_count": null,
   "metadata": {
    "slideshow": {
     "slide_type": "slide"
    }
   },
   "outputs": [],
   "source": [
    "for n in range(0, len(journalInfo)):\n",
    "    #Parameters needed (if left blank, get_pubmeddata asks for response)\n",
    "    #What to search pubmed with\n",
    "    searchString = journalInfo.search[n]\n",
    "    print(' ---Running search: ' + searchString + ' (' + str(n) + ')' + ' ---')\n",
    "\n",
    "    #Run get data\n",
    "    dmf.get_pubmeddata(searchString.lower(), dataOfInterest, dfId, email, 'ignore')"
   ]
  },
  {
   "cell_type": "markdown",
   "metadata": {
    "slideshow": {
     "slide_type": "slide"
    }
   },
   "source": [
    "Sometimes the pubdate, year tags were missing in articles. The next cell finds those instances and"
   ]
  },
  {
   "cell_type": "code",
   "execution_count": null,
   "metadata": {
    "slideshow": {
     "slide_type": "slide"
    }
   },
   "outputs": [],
   "source": [
    "# Sometimes the\n",
    "for n in range(0, len(journalInfo)):\n",
    "    searchString = journalInfo.search[n].lower()\n",
    "    #make path to data (always this, if dataframe)\n",
    "    mDir = os.getcwd() + '/data/abstracts/' + searchString + '/' + 'id_' + dfId + '/' + dataOfInterest + '/'\n",
    "    mDir = mDir.replace(' ','_')\n",
    "    mDir = mDir.replace(',','_')\n",
    "    mDir = mDir.replace('\\\"','')\n",
    "    dat=pd.read_json(mDir + 'searchresults')\n",
    "    dat.sort_index(inplace=True)\n",
    "    idMissing = [i for i,x in enumerate(dat.pubdate_year) if x == '']\n",
    "    if len(idMissing)>0:\n",
    "        #Make a list of strings\n",
    "        pmidMissing=list(map(str,list(dat.pmid[idMissing])))\n",
    "        print(' ---Finding missing years (' + str(len(pmidMissing)) + ' found): ' + searchString + '. term: ' + str(n) + ' ---')\n",
    "        missingYears = dmf.get_medlineyear(list(pmidMissing))\n",
    "        dat['pubdate_year'].loc[idMissing]=missingYears\n",
    "        dat.to_json(mDir + 'searchresults')"
   ]
  },
  {
   "cell_type": "markdown",
   "metadata": {
    "slideshow": {
     "slide_type": "slide"
    }
   },
   "source": [
    "For the \"nr authors\" the author info also has to be download."
   ]
  },
  {
   "cell_type": "code",
   "execution_count": null,
   "metadata": {
    "slideshow": {
     "slide_type": "slide"
    }
   },
   "outputs": [],
   "source": [
    "#What to get. \"all\" saves a txt. Otherwise the xml tags wanted (see https://www.nlm.nih.gov/bsd/licensee/elements_alphabetical.html). Seperated by a comma\n",
    "#\"Trees\" are possible to specify column you want. (e.g. <year> occurs) in several\n",
    "#places so pubate_year takes the <year> tag in <pubdate>\n",
    "dataOfInterest = 'forename,lastname,affiliation'\n",
    "#If dataframe, what is the index column (usally article or author)\n",
    "dfId = 'author'\n",
    "\n",
    "for n in range(0, len(journalInfo)):\n",
    "    #Parameters needed (if left blank, get_pubmeddata asks for response)\n",
    "    #What to search pubmed with\n",
    "    searchString = journalInfo.search[n]\n",
    "    print(' ---Running search: ' + searchString + ' (' + str(n) + ')' + ' ---')\n",
    "    #Run get data\n",
    "    dmf.get_pubmeddata(searchString.lower(), dataOfInterest, dfId, email, 'ignore')\n",
    "    #dataOfInterest = 'forename,lastname,affiliation'\n",
    "    #dfId = 'author'\n",
    "    #dmf.get_pubmeddata(searchString.lower(),dataOfInterest,dfId,email,'ignore')"
   ]
  }
 ],
 "metadata": {
  "language": "python"
 },
 "nbformat": 4,
 "nbformat_minor": 2
}
